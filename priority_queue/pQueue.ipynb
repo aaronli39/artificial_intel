{
  "nbformat": 4,
  "nbformat_minor": 0,
  "metadata": {
    "colab": {
      "name": "pQueue.ipynb",
      "version": "0.3.2",
      "provenance": [],
      "collapsed_sections": []
    },
    "kernelspec": {
      "name": "python3",
      "display_name": "Python 3"
    }
  },
  "cells": [
    {
      "metadata": {
        "id": "Xh6Zsl-OZPz9",
        "colab_type": "text"
      },
      "cell_type": "markdown",
      "source": [
        "# Priority Queue\n",
        "The following code implements a binary min-heap priority queue"
      ]
    },
    {
      "metadata": {
        "id": "91ZVtxX1Zaoa",
        "colab_type": "code",
        "colab": {}
      },
      "cell_type": "code",
      "source": [
        "#! /usr/bin/python3\n",
        "\n",
        "import sys\n",
        "\n",
        "# default comparison\n",
        "def ord_cmp(a, b):\n",
        "    if a < b:\n",
        "        return -1\n",
        "    if a == b:\n",
        "        return 0\n",
        "    return 1\n",
        "\n",
        "# priority queue\n",
        "class Pqueue:\n",
        "    # init initializes the array, size, and comparator obj\n",
        "    def __init__(self, comparator=ord_cmp):\n",
        "        self.data = []\n",
        "        self.size = 0\n",
        "        self.cmp_to = comparator\n",
        "\n",
        "    # push takes in 1 val, appends it, and bubbles the\n",
        "    # val to appropriate position\n",
        "    def push(self, val):\n",
        "        # add element\n",
        "        self.data.append(val)\n",
        "        self.size += 1\n",
        "        # bubble up\n",
        "        el = self.size - 1\n",
        "        par = int((self.size - 2) / 2)\n",
        "\n",
        "        while(self.cmp_to(self.data[el], self.data[par]) == -1 and par >= 0):\n",
        "            self.data[el], self.data[par] = self.data[par], self.data[el]\n",
        "            # set new vals to bubble up\n",
        "            el = par\n",
        "            par = int((par - 1) / 2)\n",
        "        # print(self.data, val)\n",
        "\n",
        "    # pushL takes in a list, appends each value in list to \n",
        "    # queue, and the bubbles them to their correct location \n",
        "    def push_all(self, data):\n",
        "        [self.push(i) for i in data]\n",
        "        return\n",
        "\n",
        "    # pop root, rearrange rest of array\n",
        "    def pop(self):\n",
        "        # return none if nothing\n",
        "        if self.size == 0: return None\n",
        "        # set return value\n",
        "        ret = self.data[0]\n",
        "        # set new root as last element to bubble down\n",
        "        self.data[0] = self.data[self.size - 1]\n",
        "        self.data, self.size = self.data[:-1], self.size - 1\n",
        "\n",
        "        # starting indices with left and right children\n",
        "        cur = 0\n",
        "        left, right = 2 * cur + 1, 2 * cur + 2\n",
        "\n",
        "        # if it's just a one level tree, pop root and swap left and current if necessary\n",
        "        if self.size == 2 and self.cmp_to(self.data[cur], self.data[left]) == 1:\n",
        "            self.data[cur], self.data[left] = self.data[left], self.data[cur]\n",
        "\n",
        "        while(left < self.size and right < self.size and\n",
        "              (self.cmp_to(self.data[cur], self.data[left]) == 1 or self.cmp_to(self.data[cur], self.data[right]) == 1)):\n",
        "            # if left smaller than right\n",
        "            if self.cmp_to(self.data[left], self.data[right]) == 1:\n",
        "                # right smaller so swap right and current\n",
        "                self.data[cur], self.data[right] = self.data[right], self.data[cur]\n",
        "                cur = right\n",
        "                left, right = cur * 2 + 1, cur * 2 + 2\n",
        "            else:\n",
        "                # swap left and current\n",
        "                self.data[cur], self.data[left] = self.data[left], self.data[cur]\n",
        "                cur = left\n",
        "                left, right = cur * 2 + 1, cur * 2 + 2\n",
        "        return ret\n",
        "\n",
        "    # look at next root\n",
        "    def peek(self):\n",
        "        if self.size == 0: return None\n",
        "        return self.data[0]\n",
        "\n",
        "    # returns list representation of the queue\n",
        "    def toList(self):\n",
        "        ret = [self.pop() for i in self.data]\n",
        "        return ret\n",
        "    \n",
        "    # returns the elements in the queue without popping\n",
        "    def internal_list(self):\n",
        "        return self.data"
      ],
      "execution_count": 0,
      "outputs": []
    },
    {
      "metadata": {
        "id": "TNyX0uqbZfrY",
        "colab_type": "text"
      },
      "cell_type": "markdown",
      "source": [
        "# Testing\n",
        "Here are some methods that test the functions of the assignment"
      ]
    },
    {
      "metadata": {
        "id": "Bvy6O3JdZmGE",
        "colab_type": "code",
        "outputId": "cd6621ec-fedc-4519-ad84-308d8d363ded",
        "colab": {
          "base_uri": "https://localhost:8080/",
          "height": 121
        }
      },
      "cell_type": "code",
      "source": [
        "# create new queue\n",
        "a = Pqueue() \n",
        "# push some vals\n",
        "a.push(10)\n",
        "a.push(8)\n",
        "a.push(5)\n",
        "a.push(15)\n",
        "a.push(4)\n",
        "\n",
        "# peek root(should be 4)\n",
        "print(\"peek:\", a.peek())\n",
        "\n",
        "# pop the root and rearrange tree\n",
        "# should return 4\n",
        "print(\"popped:\", a.pop())\n",
        "# peek the new root, should be 5\n",
        "print(\"peek:\", a.peek())\n",
        "\n",
        "# pop and return queue\n",
        "print(\"toList():\", a.toList())\n",
        "\n",
        "# Testing\n",
        "b = Pqueue()\n",
        "b.push_all(list('PETERBR'[::-1]))\n",
        "print(b.internal_list())\n",
        "b.pop()\n",
        "b.pop()\n",
        "print(b.internal_list())\n"
      ],
      "execution_count": 2,
      "outputs": [
        {
          "output_type": "stream",
          "text": [
            "peek: 4\n",
            "popped: 4\n",
            "peek: 5\n",
            "toList(): [5, 8, 10, 15]\n",
            "['B', 'E', 'E', 'R', 'T', 'R', 'P']\n",
            "['E', 'P', 'R', 'R', 'T']\n"
          ],
          "name": "stdout"
        }
      ]
    }
  ]
}